{
 "cells": [
  {
   "cell_type": "markdown",
   "id": "cf64322d",
   "metadata": {},
   "source": [
    "#  Climbing Stairs"
   ]
  },
  {
   "cell_type": "raw",
   "id": "a98548f2",
   "metadata": {},
   "source": [
    "Each time you can either climb 1 or 2 steps. In how many distinct ways can you climb to the top?"
   ]
  },
  {
   "cell_type": "raw",
   "id": "9937ea37",
   "metadata": {},
   "source": [
    "Example 1:\n",
    "\n",
    "Input: n = 2\n",
    "Output: 2\n",
    "Explanation: There are two ways to climb to the top.\n",
    "1. 1 step + 1 step\n",
    "2. 2 steps\n",
    "Example 2:\n",
    "\n",
    "Input: n = 3\n",
    "Output: 3\n",
    "Explanation: There are three ways to climb to the top.\n",
    "1. 1 step + 1 step + 1 step\n",
    "2. 1 step + 2 steps\n",
    "3. 2 steps + 1 step"
   ]
  },
  {
   "cell_type": "code",
   "execution_count": 6,
   "id": "add8f9c8",
   "metadata": {},
   "outputs": [],
   "source": [
    "def climbStairs(n):\n",
    "    if n == 1:\n",
    "        return 1\n",
    "    if n == 2:\n",
    "        return 2\n",
    "\n",
    "    dp = [0] * (n + 1)\n",
    "    dp[1] = 1\n",
    "    dp[2] = 2\n",
    "\n",
    "    # Calculate the number of ways for each step from 3 to n\n",
    "    for i in range(3, n + 1):\n",
    "        dp[i] = dp[i - 1] + dp[i - 2]\n",
    "\n",
    "    return dp[n]\n",
    "\n",
    "# n1 = 2\n",
    "# print(climbStairs(n1))  # Output: 2\n",
    "\n",
    "# n2 = 3\n",
    "# print(climbStairs(n2))  # Output: 3\n"
   ]
  },
  {
   "cell_type": "markdown",
   "id": "097024c9",
   "metadata": {},
   "source": [
    "# Remove Duplicates from Sorted List"
   ]
  },
  {
   "cell_type": "code",
   "execution_count": null,
   "id": "cf35841d",
   "metadata": {},
   "outputs": [],
   "source": [
    "a =[1, 1, 2, 3, 4, 2]\n",
    "\n",
    "for i in range a:\n",
    "    for j in range i:\n",
    "        if i == a:\n",
    "            \n",
    "        \n",
    "        "
   ]
  },
  {
   "cell_type": "code",
   "execution_count": 8,
   "id": "b5dc0fd4",
   "metadata": {},
   "outputs": [
    {
     "name": "stdout",
     "output_type": "stream",
     "text": [
      "List after removing duplicates: []\n"
     ]
    }
   ],
   "source": [
    "a = [1, 1, 2, 3, 4, 2]\n",
    "unique_list = []\n",
    "\n",
    "for i in a:\n",
    "    dup = False\n",
    "    for j in unique_list:\n",
    "        if i == j:\n",
    "            dup = True\n",
    "            break\n",
    "\n",
    "    if not dup:\n",
    "        unique_list.append(i)\n",
    "\n",
    "print(\"List after removing duplicates:\", unique_list)\n"
   ]
  },
  {
   "cell_type": "markdown",
   "id": "5bf0d4f8",
   "metadata": {},
   "source": [
    "# SAME TREE"
   ]
  },
  {
   "cell_type": "code",
   "execution_count": null,
   "id": "2a5b7cc2",
   "metadata": {},
   "outputs": [],
   "source": [
    "def SameTree(self, p: TreeNode, q: TreeNode) -> bool:\n",
    "    if not p and q:\n",
    "        return True\n",
    "    elif not p or q :\n",
    "        return False\n",
    "    elif p.val =! q.val:\n",
    "        return False\n",
    "    \n",
    "    \n",
    "    return self.SameTree(p.left, q.left) and self.SameTree(p.right, q.right)\n",
    "\n",
    "    "
   ]
  },
  {
   "cell_type": "code",
   "execution_count": 23,
   "id": "984ecb83",
   "metadata": {},
   "outputs": [
    {
     "name": "stdout",
     "output_type": "stream",
     "text": [
      "False\n"
     ]
    }
   ],
   "source": [
    "class TreeNode:\n",
    "    def __init__(self, val=0, left=None, right=None):\n",
    "        self.val = val\n",
    "        self.left = left\n",
    "        self.right = right\n",
    "\n",
    "def isSameTree(p: TreeNode, q: TreeNode) -> bool:\n",
    "    # If both nodes are None,  Its True\n",
    "    if not p and not q:\n",
    "        return True\n",
    "    # If any one is not same its false\n",
    "    elif not p or not q:\n",
    "        return False\n",
    "    # Straight\n",
    "    elif p.val != q.val:\n",
    "        return False\n",
    "    # Recursively check left and right subtrees\n",
    "    else:\n",
    "        return isSameTree(p.left, q.left) and \n",
    "               isSameTree(p.right, q.right)\n",
    "\n",
    "tree_p = TreeNode(1, TreeNode(2), TreeNode(3))\n",
    "tree_q = TreeNode(1, TreeNode(2), TreeNode(3))\n",
    "\n",
    "result = isSameTree(tree_p, tree_q)\n",
    "print(result)\n"
   ]
  },
  {
   "cell_type": "markdown",
   "id": "465efea6",
   "metadata": {},
   "source": [
    "# Symentry tree"
   ]
  },
  {
   "cell_type": "code",
   "execution_count": null,
   "id": "ff286593",
   "metadata": {},
   "outputs": [],
   "source": [
    "class TreeNode1:\n",
    "    def __init__(self, val=0, left=None, right=None):\n",
    "        self.val = val\n",
    "        self.left = left\n",
    "        self.right = right\n",
    "\n",
    "class Sym:\n",
    "    def Symentric(self, root: Optional[TreeNode]) -> bool:\n",
    "        def dfs(left, right):\n",
    "            if not p and not q:\n",
    "                return True\n",
    "            if not p or not q:\n",
    "                return False\n",
    "            \n",
    "            return(left.val == right.val and\n",
    "            dfs(left.left,right.right) and\n",
    "            dfs(left.right, right.left))\n",
    "        \n",
    "        return dfs(root.left,root.right)"
   ]
  },
  {
   "cell_type": "code",
   "execution_count": 26,
   "id": "6334c340",
   "metadata": {},
   "outputs": [
    {
     "name": "stdout",
     "output_type": "stream",
     "text": [
      "True\n",
      "False\n"
     ]
    }
   ],
   "source": [
    "from typing import Optional\n",
    "\n",
    "class TreeNode1:\n",
    "    def __init__(self, val=0, left=None, right=None):\n",
    "        self.val = val\n",
    "        self.left = left\n",
    "        self.right = right\n",
    "\n",
    "class Sym:\n",
    "    def Symmetric(self, root: Optional[TreeNode1]) -> bool:\n",
    "        def dfs(left, right):\n",
    "            if not left and not right:\n",
    "                return True\n",
    "            if not left or not right:\n",
    "                return False\n",
    "            \n",
    "            return (left.val == right.val and\n",
    "                    dfs(left.left, right.right) and\n",
    "                    dfs(left.right, right.left))\n",
    "        \n",
    "        if not root:\n",
    "            return True\n",
    "        \n",
    "        return dfs(root.left, root.right)\n"
   ]
  },
  {
   "cell_type": "code",
   "execution_count": 27,
   "id": "4a5202f7",
   "metadata": {},
   "outputs": [
    {
     "name": "stdout",
     "output_type": "stream",
     "text": [
      "True\n",
      "False\n"
     ]
    }
   ],
   "source": [
    "from typing import Optional\n",
    "\n",
    "class TreeNode1:\n",
    "    def __init__(self, val=0, left=None, right=None):\n",
    "        self.val = val\n",
    "        self.left = left\n",
    "        self.right = right\n",
    "\n",
    "class Sym:\n",
    "    def Symmetric(self, root: Optional[TreeNode1]) -> bool:\n",
    "        def dfs(left, right):\n",
    "            if not left and not right:\n",
    "                return True\n",
    "            if not left or not right:\n",
    "                return False\n",
    "            \n",
    "            return (left.val == right.val and\n",
    "                    dfs(left.left, right.right) and\n",
    "                    dfs(left.right, right.left))\n",
    "        \n",
    "        if not root:\n",
    "            return True\n",
    "        \n",
    "        return dfs(root.left, root.right)\n",
    "    \n",
    "symmetric_tree = TreeNode1(1, TreeNode1(2, TreeNode1(3), TreeNode1(4)), TreeNode1(2, TreeNode1(4), TreeNode1(3)))\n",
    "non_symmetric_tree = TreeNode1(1, TreeNode1(2, None, TreeNode1(3)), TreeNode1(2, None, TreeNode1(3)))\n",
    "\n",
    "checker = Sym()\n",
    "print(checker.Symmetric(symmetric_tree))  \n",
    "print(checker.Symmetric(non_symmetric_tree))  \n",
    "\n",
    "\n",
    "\n"
   ]
  },
  {
   "cell_type": "code",
   "execution_count": null,
   "id": "e8a77d96",
   "metadata": {},
   "outputs": [],
   "source": []
  }
 ],
 "metadata": {
  "kernelspec": {
   "display_name": "Python 3 (ipykernel)",
   "language": "python",
   "name": "python3"
  },
  "language_info": {
   "codemirror_mode": {
    "name": "ipython",
    "version": 3
   },
   "file_extension": ".py",
   "mimetype": "text/x-python",
   "name": "python",
   "nbconvert_exporter": "python",
   "pygments_lexer": "ipython3",
   "version": "3.11.5"
  }
 },
 "nbformat": 4,
 "nbformat_minor": 5
}
