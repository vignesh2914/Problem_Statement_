{
 "cells": [
  {
   "cell_type": "markdown",
   "id": "01e4371c",
   "metadata": {},
   "source": [
    "# Search Insert Position\n"
   ]
  },
  {
   "cell_type": "raw",
   "id": "7d70160d",
   "metadata": {},
   "source": [
    "\n",
    "Example 1:\n",
    "\n",
    "Input: nums = [1,3,5,6], target = 5\n",
    "Output: 2\n",
    "Explanation: In the given sorted array [1,3,5,6], the target element is 5. The index of 5 in the array is 2. Therefore, the output is 2.\n",
    "Example 2:\n",
    "\n",
    "Input: nums = [1,3,5,6], target = 2\n",
    "Output: 1\n",
    "Explanation: Again, considering the sorted array [1,3,5,6], the target element is 2. If the target 2 were to be inserted into the array while maintaining the sorted order, it would be placed between 1 and 3, so the index would be 1. Therefore, the output is 1.\n",
    "Example 3:\n",
    "\n",
    "Input: nums = [1,3,5,6], target = 7\n",
    "Output: 4\n",
    "Explanation: In the sorted array [1,3,5,6], the target element 7 is not present. If 7 were to be inserted into the array while maintaining the sorted order, it would be placed at the end, after 6. Therefore, the index would be 4. Hence, the output is 4."
   ]
  },
  {
   "cell_type": "code",
   "execution_count": 5,
   "id": "43a3522e",
   "metadata": {},
   "outputs": [
    {
     "name": "stdout",
     "output_type": "stream",
     "text": [
      "target value 3\n"
     ]
    }
   ],
   "source": [
    "a=[1,3,4,6] \n",
    "target = 3\n",
    "count=0\n",
    "\n",
    "for i in range (len(a)):\n",
    "    if target == i:\n",
    "        print(\"target value\",target)\n",
    "#     else:\n",
    "#         print(\"target value not found\")\n",
    "        \n",
    "\n"
   ]
  },
  {
   "cell_type": "code",
   "execution_count": 15,
   "id": "a2971f0e",
   "metadata": {},
   "outputs": [
    {
     "name": "stdout",
     "output_type": "stream",
     "text": [
      "Target value should be inserted at index 2\n"
     ]
    }
   ],
   "source": [
    "# Input: nums = [1,3,5,6], target = 2\n",
    "\n",
    "a = [1, 3, 5, 6]\n",
    "target = 2\n",
    "\n",
    "for i in range(len(a)):\n",
    "    if target == a[i]:\n",
    "        print(\"Target value found at index\", i)\n",
    "        break\n",
    "    elif target < a[i]:\n",
    "        print(\"Target value should be inserted at index\", i)\n",
    "        break\n",
    "#     elif i == len(a) - 1:\n",
    "#         print(\"Target value should be inserted at the end of the array\")\n",
    "\n",
    "        \n",
    "\n",
    "\n",
    "\n"
   ]
  },
  {
   "cell_type": "markdown",
   "id": "07803cdd",
   "metadata": {},
   "source": [
    "# Length of Last Word\n"
   ]
  },
  {
   "cell_type": "raw",
   "id": "dd217a94",
   "metadata": {},
   "source": [
    "Example 1:\n",
    "\n",
    "Input: s = \"Hello World\"\n",
    "Output: 5\n",
    "Explanation: The last word is \"World\" with length 5.\n",
    "Example 2:\n",
    "\n",
    "Input: s = \"   fly me   to   the moon  \"\n",
    "Output: 4\n",
    "Explanation: The last word is \"moon\" with length 4.\n",
    "Example 3:\n",
    "\n",
    "Input: s = \"luffy is still joyboy\"\n",
    "Output: 6\n",
    "Explanation: The last word is \"joyboy\" with length 6."
   ]
  },
  {
   "cell_type": "code",
   "execution_count": 28,
   "id": "8c4478e2",
   "metadata": {},
   "outputs": [
    {
     "name": "stdout",
     "output_type": "stream",
     "text": [
      "splited string: ['Hello', 'World']\n",
      "Length of the first word: 5\n",
      "Length of the second word: 5\n"
     ]
    }
   ],
   "source": [
    "# a = \"Hello World\"\n",
    "\n",
    "# for i in range (len(a)):\n",
    "#     if a.split != a:--------------------->u missed () near split\n",
    "#         print(\"splited string\",a.split)--> here too\n",
    "        \n",
    "a = \"Hello World\"\n",
    "\n",
    "\n",
    "split_str =a.split()\n",
    "\n",
    "for i in range(len(a)):\n",
    "    if split_str != a:\n",
    "        break\n",
    "print(\"splited string:\", split_str)\n",
    "print(\"Length of the first word:\", len(split_str[0]))\n",
    "print(\"Length of the second word:\", len(split_str[1]))\n",
    "\n",
    "\n",
    "\n",
    "    "
   ]
  },
  {
   "cell_type": "code",
   "execution_count": 29,
   "id": "0ada2bcf",
   "metadata": {},
   "outputs": [
    {
     "name": "stdout",
     "output_type": "stream",
     "text": [
      "First word: Hello\n",
      "Length of the first word: 5\n",
      "Second word: World\n",
      "Length of the second word: 5\n"
     ]
    }
   ],
   "source": [
    "#without using split method\n",
    "\n",
    "a = \"Hello World\"\n",
    "\n",
    "# Find the index of the space character\n",
    "space_index = a.find(' ')\n",
    "\n",
    "# Check if a space was found\n",
    "if space_index != -1:\n",
    "    # Extract the first word and its length\n",
    "    first_word = a[:space_index]\n",
    "    first_word_length = len(first_word)\n",
    "\n",
    "    # Extract the second word and its length\n",
    "    second_word = a[space_index+1:]\n",
    "    second_word_length = len(second_word)\n",
    "\n",
    "    print(\"First word:\", first_word)\n",
    "    print(\"Length of the first word:\", first_word_length)\n",
    "\n",
    "    print(\"Second word:\", second_word)\n",
    "    print(\"Length of the second word:\", second_word_length)\n",
    "else:\n",
    "    print(\"No space found in the string.\")\n"
   ]
  },
  {
   "cell_type": "markdown",
   "id": "e777be45",
   "metadata": {},
   "source": [
    "# Plus One\n"
   ]
  },
  {
   "cell_type": "raw",
   "id": "bbe0b3b1",
   "metadata": {},
   "source": [
    "Example 2:\n",
    "\n",
    "Input: digits = [4,3,2,1]\n",
    "Output: [4,3,2,2]\n",
    "Explanation: The array represents the integer 4321.\n",
    "Incrementing by one gives 4321 + 1 = 4322.\n",
    "Thus, the result should be [4,3,2,2]."
   ]
  },
  {
   "cell_type": "code",
   "execution_count": 32,
   "id": "b3dc72b3",
   "metadata": {},
   "outputs": [
    {
     "name": "stdout",
     "output_type": "stream",
     "text": [
      "Com number: 12345\n",
      "12346\n"
     ]
    }
   ],
   "source": [
    "a = [1, 2, 3, 4, 5]\n",
    "\n",
    "com_number_str = str(a[0]) + str(a[1]) + str(a[2]) + str(a[3]) + str(a[4])\n",
    "\n",
    "com_number = int(com_number_str)\n",
    "\n",
    "print(\"Com number:\", com_number)\n",
    "\n",
    "com_number = com_number + 1\n",
    "\n",
    "print(com_number)\n",
    "\n",
    "\n"
   ]
  },
  {
   "cell_type": "code",
   "execution_count": 1,
   "id": "c8e955cd",
   "metadata": {},
   "outputs": [
    {
     "name": "stdout",
     "output_type": "stream",
     "text": [
      "Com number: 12345\n",
      "[1, 2, 3, 4, 5]\n"
     ]
    }
   ],
   "source": [
    "a = [1, 2, 3, 4, 5]\n",
    "\n",
    "com_number_str = str(a[0]) + str(a[1]) + str(a[2]) + str(a[3]) + str(a[4])\n",
    "\n",
    "com_number = int(com_number_str)\n",
    "\n",
    "print(\"Com number:\", com_number)\n",
    "\n",
    "new_list = [int(digit) for digit in str(com_number)]\n",
    "\n",
    "\n",
    "print(new_list)\n",
    "\n",
    "\n",
    "\n",
    "\n",
    "\n"
   ]
  },
  {
   "cell_type": "code",
   "execution_count": null,
   "id": "6ad947be",
   "metadata": {},
   "outputs": [],
   "source": []
  }
 ],
 "metadata": {
  "kernelspec": {
   "display_name": "Python 3 (ipykernel)",
   "language": "python",
   "name": "python3"
  },
  "language_info": {
   "codemirror_mode": {
    "name": "ipython",
    "version": 3
   },
   "file_extension": ".py",
   "mimetype": "text/x-python",
   "name": "python",
   "nbconvert_exporter": "python",
   "pygments_lexer": "ipython3",
   "version": "3.11.5"
  }
 },
 "nbformat": 4,
 "nbformat_minor": 5
}
